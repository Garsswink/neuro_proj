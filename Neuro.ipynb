{
 "cells": [
  {
   "cell_type": "markdown",
   "metadata": {},
   "source": [
    "## Data Wrangling"
   ]
  },
  {
   "cell_type": "code",
   "execution_count": 1,
   "metadata": {},
   "outputs": [],
   "source": [
    "import pandas as pd"
   ]
  },
  {
   "cell_type": "code",
   "execution_count": 2,
   "metadata": {},
   "outputs": [],
   "source": [
    "df_F = pd.read_csv('Train/train_FNC.csv')\n",
    "df_S = pd.read_csv('Train/train_SBM.csv')\n",
    "df_labels = pd.read_csv('Train/train_labels.csv')"
   ]
  },
  {
   "cell_type": "code",
   "execution_count": 3,
   "metadata": {},
   "outputs": [
    {
     "data": {
      "text/plain": [
       "(86, 379)"
      ]
     },
     "execution_count": 3,
     "metadata": {},
     "output_type": "execute_result"
    }
   ],
   "source": [
    "df_F.shape"
   ]
  },
  {
   "cell_type": "code",
   "execution_count": 4,
   "metadata": {},
   "outputs": [
    {
     "data": {
      "text/plain": [
       "(86, 33)"
      ]
     },
     "execution_count": 4,
     "metadata": {},
     "output_type": "execute_result"
    }
   ],
   "source": [
    "df_S.shape"
   ]
  },
  {
   "cell_type": "code",
   "execution_count": 5,
   "metadata": {},
   "outputs": [],
   "source": [
    "#df = pd.merge(df_F, df_S, on='Id', how='outer')\n",
    "df = df_S"
   ]
  },
  {
   "cell_type": "code",
   "execution_count": 6,
   "metadata": {},
   "outputs": [],
   "source": [
    "df = df.set_index('Id')"
   ]
  },
  {
   "cell_type": "code",
   "execution_count": 7,
   "metadata": {},
   "outputs": [
    {
     "data": {
      "text/html": [
       "<div>\n",
       "<style>\n",
       "    .dataframe thead tr:only-child th {\n",
       "        text-align: right;\n",
       "    }\n",
       "\n",
       "    .dataframe thead th {\n",
       "        text-align: left;\n",
       "    }\n",
       "\n",
       "    .dataframe tbody tr th {\n",
       "        vertical-align: top;\n",
       "    }\n",
       "</style>\n",
       "<table border=\"1\" class=\"dataframe\">\n",
       "  <thead>\n",
       "    <tr style=\"text-align: right;\">\n",
       "      <th></th>\n",
       "      <th>SBM_map1</th>\n",
       "      <th>SBM_map2</th>\n",
       "      <th>SBM_map3</th>\n",
       "      <th>SBM_map4</th>\n",
       "      <th>SBM_map5</th>\n",
       "      <th>SBM_map6</th>\n",
       "      <th>SBM_map7</th>\n",
       "      <th>SBM_map8</th>\n",
       "      <th>SBM_map10</th>\n",
       "      <th>SBM_map13</th>\n",
       "      <th>...</th>\n",
       "      <th>SBM_map55</th>\n",
       "      <th>SBM_map61</th>\n",
       "      <th>SBM_map64</th>\n",
       "      <th>SBM_map67</th>\n",
       "      <th>SBM_map69</th>\n",
       "      <th>SBM_map71</th>\n",
       "      <th>SBM_map72</th>\n",
       "      <th>SBM_map73</th>\n",
       "      <th>SBM_map74</th>\n",
       "      <th>SBM_map75</th>\n",
       "    </tr>\n",
       "    <tr>\n",
       "      <th>Id</th>\n",
       "      <th></th>\n",
       "      <th></th>\n",
       "      <th></th>\n",
       "      <th></th>\n",
       "      <th></th>\n",
       "      <th></th>\n",
       "      <th></th>\n",
       "      <th></th>\n",
       "      <th></th>\n",
       "      <th></th>\n",
       "      <th></th>\n",
       "      <th></th>\n",
       "      <th></th>\n",
       "      <th></th>\n",
       "      <th></th>\n",
       "      <th></th>\n",
       "      <th></th>\n",
       "      <th></th>\n",
       "      <th></th>\n",
       "      <th></th>\n",
       "      <th></th>\n",
       "    </tr>\n",
       "  </thead>\n",
       "  <tbody>\n",
       "    <tr>\n",
       "      <th>120873</th>\n",
       "      <td>0.725065</td>\n",
       "      <td>-0.639254</td>\n",
       "      <td>0.353069</td>\n",
       "      <td>-0.981707</td>\n",
       "      <td>-1.419971</td>\n",
       "      <td>-0.441321</td>\n",
       "      <td>-0.264192</td>\n",
       "      <td>0.711579</td>\n",
       "      <td>0.641798</td>\n",
       "      <td>0.339658</td>\n",
       "      <td>...</td>\n",
       "      <td>-0.078220</td>\n",
       "      <td>-0.982331</td>\n",
       "      <td>1.070363</td>\n",
       "      <td>0.220316</td>\n",
       "      <td>0.776855</td>\n",
       "      <td>-2.022404</td>\n",
       "      <td>1.203256</td>\n",
       "      <td>1.083516</td>\n",
       "      <td>0.564201</td>\n",
       "      <td>-0.002006</td>\n",
       "    </tr>\n",
       "    <tr>\n",
       "      <th>135376</th>\n",
       "      <td>-1.328855</td>\n",
       "      <td>0.502970</td>\n",
       "      <td>0.013232</td>\n",
       "      <td>1.128496</td>\n",
       "      <td>-0.070738</td>\n",
       "      <td>0.398476</td>\n",
       "      <td>-0.466051</td>\n",
       "      <td>-0.435455</td>\n",
       "      <td>0.342847</td>\n",
       "      <td>-0.672254</td>\n",
       "      <td>...</td>\n",
       "      <td>0.989571</td>\n",
       "      <td>-0.057543</td>\n",
       "      <td>0.371701</td>\n",
       "      <td>-0.513081</td>\n",
       "      <td>-0.457550</td>\n",
       "      <td>1.476216</td>\n",
       "      <td>0.381052</td>\n",
       "      <td>0.163436</td>\n",
       "      <td>0.403782</td>\n",
       "      <td>-0.295125</td>\n",
       "    </tr>\n",
       "    <tr>\n",
       "      <th>139149</th>\n",
       "      <td>0.732268</td>\n",
       "      <td>-1.241554</td>\n",
       "      <td>0.654942</td>\n",
       "      <td>-0.289216</td>\n",
       "      <td>0.158316</td>\n",
       "      <td>0.029165</td>\n",
       "      <td>1.439242</td>\n",
       "      <td>-0.832816</td>\n",
       "      <td>1.285468</td>\n",
       "      <td>-2.132901</td>\n",
       "      <td>...</td>\n",
       "      <td>-0.257114</td>\n",
       "      <td>0.597229</td>\n",
       "      <td>1.220756</td>\n",
       "      <td>-0.059213</td>\n",
       "      <td>-0.435494</td>\n",
       "      <td>-0.092971</td>\n",
       "      <td>1.090910</td>\n",
       "      <td>-0.448562</td>\n",
       "      <td>-0.508497</td>\n",
       "      <td>0.350434</td>\n",
       "    </tr>\n",
       "    <tr>\n",
       "      <th>146791</th>\n",
       "      <td>-0.343917</td>\n",
       "      <td>-1.052519</td>\n",
       "      <td>-1.150521</td>\n",
       "      <td>0.765989</td>\n",
       "      <td>0.923129</td>\n",
       "      <td>0.674052</td>\n",
       "      <td>-0.492673</td>\n",
       "      <td>1.282388</td>\n",
       "      <td>-1.914583</td>\n",
       "      <td>-1.269851</td>\n",
       "      <td>...</td>\n",
       "      <td>-0.295110</td>\n",
       "      <td>0.829697</td>\n",
       "      <td>-0.450726</td>\n",
       "      <td>-0.791032</td>\n",
       "      <td>-1.115821</td>\n",
       "      <td>-0.022296</td>\n",
       "      <td>-0.245844</td>\n",
       "      <td>-0.705539</td>\n",
       "      <td>0.061344</td>\n",
       "      <td>0.448966</td>\n",
       "    </tr>\n",
       "    <tr>\n",
       "      <th>153870</th>\n",
       "      <td>-0.208685</td>\n",
       "      <td>-0.562697</td>\n",
       "      <td>-0.362164</td>\n",
       "      <td>1.025571</td>\n",
       "      <td>0.151690</td>\n",
       "      <td>-0.130410</td>\n",
       "      <td>-1.105922</td>\n",
       "      <td>0.502029</td>\n",
       "      <td>-0.097735</td>\n",
       "      <td>1.561833</td>\n",
       "      <td>...</td>\n",
       "      <td>1.342273</td>\n",
       "      <td>-0.978412</td>\n",
       "      <td>0.158492</td>\n",
       "      <td>0.889753</td>\n",
       "      <td>0.795368</td>\n",
       "      <td>0.738788</td>\n",
       "      <td>0.475415</td>\n",
       "      <td>2.340384</td>\n",
       "      <td>2.516038</td>\n",
       "      <td>-0.551440</td>\n",
       "    </tr>\n",
       "  </tbody>\n",
       "</table>\n",
       "<p>5 rows × 32 columns</p>\n",
       "</div>"
      ],
      "text/plain": [
       "        SBM_map1  SBM_map2  SBM_map3  SBM_map4  SBM_map5  SBM_map6  SBM_map7  \\\n",
       "Id                                                                             \n",
       "120873  0.725065 -0.639254  0.353069 -0.981707 -1.419971 -0.441321 -0.264192   \n",
       "135376 -1.328855  0.502970  0.013232  1.128496 -0.070738  0.398476 -0.466051   \n",
       "139149  0.732268 -1.241554  0.654942 -0.289216  0.158316  0.029165  1.439242   \n",
       "146791 -0.343917 -1.052519 -1.150521  0.765989  0.923129  0.674052 -0.492673   \n",
       "153870 -0.208685 -0.562697 -0.362164  1.025571  0.151690 -0.130410 -1.105922   \n",
       "\n",
       "        SBM_map8  SBM_map10  SBM_map13    ...      SBM_map55  SBM_map61  \\\n",
       "Id                                        ...                             \n",
       "120873  0.711579   0.641798   0.339658    ...      -0.078220  -0.982331   \n",
       "135376 -0.435455   0.342847  -0.672254    ...       0.989571  -0.057543   \n",
       "139149 -0.832816   1.285468  -2.132901    ...      -0.257114   0.597229   \n",
       "146791  1.282388  -1.914583  -1.269851    ...      -0.295110   0.829697   \n",
       "153870  0.502029  -0.097735   1.561833    ...       1.342273  -0.978412   \n",
       "\n",
       "        SBM_map64  SBM_map67  SBM_map69  SBM_map71  SBM_map72  SBM_map73  \\\n",
       "Id                                                                         \n",
       "120873   1.070363   0.220316   0.776855  -2.022404   1.203256   1.083516   \n",
       "135376   0.371701  -0.513081  -0.457550   1.476216   0.381052   0.163436   \n",
       "139149   1.220756  -0.059213  -0.435494  -0.092971   1.090910  -0.448562   \n",
       "146791  -0.450726  -0.791032  -1.115821  -0.022296  -0.245844  -0.705539   \n",
       "153870   0.158492   0.889753   0.795368   0.738788   0.475415   2.340384   \n",
       "\n",
       "        SBM_map74  SBM_map75  \n",
       "Id                            \n",
       "120873   0.564201  -0.002006  \n",
       "135376   0.403782  -0.295125  \n",
       "139149  -0.508497   0.350434  \n",
       "146791   0.061344   0.448966  \n",
       "153870   2.516038  -0.551440  \n",
       "\n",
       "[5 rows x 32 columns]"
      ]
     },
     "execution_count": 7,
     "metadata": {},
     "output_type": "execute_result"
    }
   ],
   "source": [
    "df.head()"
   ]
  },
  {
   "cell_type": "code",
   "execution_count": 8,
   "metadata": {},
   "outputs": [],
   "source": [
    "from sklearn.preprocessing import MinMaxScaler\n",
    "X = df.values\n",
    "min_max_scaler = MinMaxScaler()\n",
    "X_scaled = min_max_scaler.fit_transform(X)\n",
    "df = pd.DataFrame(X_scaled)"
   ]
  },
  {
   "cell_type": "code",
   "execution_count": 9,
   "metadata": {},
   "outputs": [
    {
     "data": {
      "text/plain": [
       "(86, 32)"
      ]
     },
     "execution_count": 9,
     "metadata": {},
     "output_type": "execute_result"
    }
   ],
   "source": [
    "df.shape"
   ]
  },
  {
   "cell_type": "code",
   "execution_count": 10,
   "metadata": {},
   "outputs": [],
   "source": [
    "df_corr = pd.concat([df, df_labels], axis=1, join_axes=[df_labels.index])"
   ]
  },
  {
   "cell_type": "code",
   "execution_count": 11,
   "metadata": {},
   "outputs": [],
   "source": [
    "df_corr = df_corr.corr()"
   ]
  },
  {
   "cell_type": "code",
   "execution_count": 12,
   "metadata": {},
   "outputs": [
    {
     "data": {
      "text/html": [
       "<div>\n",
       "<style>\n",
       "    .dataframe thead tr:only-child th {\n",
       "        text-align: right;\n",
       "    }\n",
       "\n",
       "    .dataframe thead th {\n",
       "        text-align: left;\n",
       "    }\n",
       "\n",
       "    .dataframe tbody tr th {\n",
       "        vertical-align: top;\n",
       "    }\n",
       "</style>\n",
       "<table border=\"1\" class=\"dataframe\">\n",
       "  <thead>\n",
       "    <tr style=\"text-align: right;\">\n",
       "      <th></th>\n",
       "      <th>0</th>\n",
       "      <th>1</th>\n",
       "      <th>2</th>\n",
       "      <th>3</th>\n",
       "      <th>4</th>\n",
       "      <th>5</th>\n",
       "      <th>6</th>\n",
       "      <th>7</th>\n",
       "      <th>8</th>\n",
       "      <th>9</th>\n",
       "      <th>...</th>\n",
       "      <th>24</th>\n",
       "      <th>25</th>\n",
       "      <th>26</th>\n",
       "      <th>27</th>\n",
       "      <th>28</th>\n",
       "      <th>29</th>\n",
       "      <th>30</th>\n",
       "      <th>31</th>\n",
       "      <th>Id</th>\n",
       "      <th>Class</th>\n",
       "    </tr>\n",
       "  </thead>\n",
       "  <tbody>\n",
       "    <tr>\n",
       "      <th>0</th>\n",
       "      <td>1.000000</td>\n",
       "      <td>0.327314</td>\n",
       "      <td>0.347820</td>\n",
       "      <td>0.456458</td>\n",
       "      <td>0.249897</td>\n",
       "      <td>-0.114916</td>\n",
       "      <td>0.266962</td>\n",
       "      <td>0.155140</td>\n",
       "      <td>0.449352</td>\n",
       "      <td>0.258961</td>\n",
       "      <td>...</td>\n",
       "      <td>0.493338</td>\n",
       "      <td>0.349338</td>\n",
       "      <td>0.405113</td>\n",
       "      <td>-0.155761</td>\n",
       "      <td>-0.124775</td>\n",
       "      <td>-0.015100</td>\n",
       "      <td>-0.130379</td>\n",
       "      <td>-0.004816</td>\n",
       "      <td>0.037352</td>\n",
       "      <td>0.125244</td>\n",
       "    </tr>\n",
       "    <tr>\n",
       "      <th>1</th>\n",
       "      <td>0.327314</td>\n",
       "      <td>1.000000</td>\n",
       "      <td>0.227165</td>\n",
       "      <td>0.209721</td>\n",
       "      <td>0.220616</td>\n",
       "      <td>-0.137446</td>\n",
       "      <td>0.236885</td>\n",
       "      <td>-0.108237</td>\n",
       "      <td>0.050824</td>\n",
       "      <td>-0.041357</td>\n",
       "      <td>...</td>\n",
       "      <td>0.154458</td>\n",
       "      <td>0.230994</td>\n",
       "      <td>0.122285</td>\n",
       "      <td>0.151120</td>\n",
       "      <td>-0.044166</td>\n",
       "      <td>-0.069451</td>\n",
       "      <td>-0.237564</td>\n",
       "      <td>-0.018476</td>\n",
       "      <td>-0.078005</td>\n",
       "      <td>0.091556</td>\n",
       "    </tr>\n",
       "    <tr>\n",
       "      <th>2</th>\n",
       "      <td>0.347820</td>\n",
       "      <td>0.227165</td>\n",
       "      <td>1.000000</td>\n",
       "      <td>0.213293</td>\n",
       "      <td>0.113965</td>\n",
       "      <td>-0.111252</td>\n",
       "      <td>0.146556</td>\n",
       "      <td>0.025440</td>\n",
       "      <td>0.156074</td>\n",
       "      <td>0.076707</td>\n",
       "      <td>...</td>\n",
       "      <td>0.299040</td>\n",
       "      <td>0.267002</td>\n",
       "      <td>0.357631</td>\n",
       "      <td>-0.011476</td>\n",
       "      <td>-0.221390</td>\n",
       "      <td>-0.184732</td>\n",
       "      <td>-0.314271</td>\n",
       "      <td>-0.284578</td>\n",
       "      <td>0.004988</td>\n",
       "      <td>0.227647</td>\n",
       "    </tr>\n",
       "    <tr>\n",
       "      <th>3</th>\n",
       "      <td>0.456458</td>\n",
       "      <td>0.209721</td>\n",
       "      <td>0.213293</td>\n",
       "      <td>1.000000</td>\n",
       "      <td>0.172352</td>\n",
       "      <td>-0.047567</td>\n",
       "      <td>0.060218</td>\n",
       "      <td>0.077716</td>\n",
       "      <td>0.235402</td>\n",
       "      <td>0.234402</td>\n",
       "      <td>...</td>\n",
       "      <td>0.328793</td>\n",
       "      <td>0.271404</td>\n",
       "      <td>0.334561</td>\n",
       "      <td>0.002067</td>\n",
       "      <td>-0.078368</td>\n",
       "      <td>0.113271</td>\n",
       "      <td>0.030986</td>\n",
       "      <td>-0.164947</td>\n",
       "      <td>-0.062131</td>\n",
       "      <td>0.124677</td>\n",
       "    </tr>\n",
       "    <tr>\n",
       "      <th>4</th>\n",
       "      <td>0.249897</td>\n",
       "      <td>0.220616</td>\n",
       "      <td>0.113965</td>\n",
       "      <td>0.172352</td>\n",
       "      <td>1.000000</td>\n",
       "      <td>-0.080104</td>\n",
       "      <td>0.506535</td>\n",
       "      <td>-0.165209</td>\n",
       "      <td>0.166045</td>\n",
       "      <td>-0.268014</td>\n",
       "      <td>...</td>\n",
       "      <td>-0.230068</td>\n",
       "      <td>-0.259463</td>\n",
       "      <td>0.143446</td>\n",
       "      <td>0.377032</td>\n",
       "      <td>0.019046</td>\n",
       "      <td>0.146877</td>\n",
       "      <td>-0.138363</td>\n",
       "      <td>0.564817</td>\n",
       "      <td>-0.173953</td>\n",
       "      <td>-0.161169</td>\n",
       "    </tr>\n",
       "  </tbody>\n",
       "</table>\n",
       "<p>5 rows × 34 columns</p>\n",
       "</div>"
      ],
      "text/plain": [
       "          0         1         2         3         4         5         6  \\\n",
       "0  1.000000  0.327314  0.347820  0.456458  0.249897 -0.114916  0.266962   \n",
       "1  0.327314  1.000000  0.227165  0.209721  0.220616 -0.137446  0.236885   \n",
       "2  0.347820  0.227165  1.000000  0.213293  0.113965 -0.111252  0.146556   \n",
       "3  0.456458  0.209721  0.213293  1.000000  0.172352 -0.047567  0.060218   \n",
       "4  0.249897  0.220616  0.113965  0.172352  1.000000 -0.080104  0.506535   \n",
       "\n",
       "          7         8         9    ...           24        25        26  \\\n",
       "0  0.155140  0.449352  0.258961    ...     0.493338  0.349338  0.405113   \n",
       "1 -0.108237  0.050824 -0.041357    ...     0.154458  0.230994  0.122285   \n",
       "2  0.025440  0.156074  0.076707    ...     0.299040  0.267002  0.357631   \n",
       "3  0.077716  0.235402  0.234402    ...     0.328793  0.271404  0.334561   \n",
       "4 -0.165209  0.166045 -0.268014    ...    -0.230068 -0.259463  0.143446   \n",
       "\n",
       "         27        28        29        30        31        Id     Class  \n",
       "0 -0.155761 -0.124775 -0.015100 -0.130379 -0.004816  0.037352  0.125244  \n",
       "1  0.151120 -0.044166 -0.069451 -0.237564 -0.018476 -0.078005  0.091556  \n",
       "2 -0.011476 -0.221390 -0.184732 -0.314271 -0.284578  0.004988  0.227647  \n",
       "3  0.002067 -0.078368  0.113271  0.030986 -0.164947 -0.062131  0.124677  \n",
       "4  0.377032  0.019046  0.146877 -0.138363  0.564817 -0.173953 -0.161169  \n",
       "\n",
       "[5 rows x 34 columns]"
      ]
     },
     "execution_count": 12,
     "metadata": {},
     "output_type": "execute_result"
    }
   ],
   "source": [
    "df_corr.head()"
   ]
  },
  {
   "cell_type": "code",
   "execution_count": 13,
   "metadata": {},
   "outputs": [
    {
     "data": {
      "text/plain": [
       "0        0.125244\n",
       "1        0.091556\n",
       "2        0.227647\n",
       "3        0.124677\n",
       "4       -0.161169\n",
       "5        0.118789\n",
       "6       -0.260848\n",
       "7        0.177372\n",
       "8       -0.041352\n",
       "9        0.168974\n",
       "10       0.273194\n",
       "11       0.195867\n",
       "12       0.149662\n",
       "13      -0.122363\n",
       "14       0.009434\n",
       "15      -0.355650\n",
       "16      -0.108547\n",
       "17       0.142075\n",
       "18       0.120896\n",
       "19       0.112968\n",
       "20       0.015637\n",
       "21       0.251211\n",
       "22      -0.049928\n",
       "23      -0.423786\n",
       "24       0.240801\n",
       "25       0.427943\n",
       "26       0.025302\n",
       "27      -0.008842\n",
       "28      -0.160246\n",
       "29       0.151770\n",
       "30       0.075980\n",
       "31      -0.349085\n",
       "Id       0.015601\n",
       "Class    1.000000\n",
       "Name: Class, dtype: float64"
      ]
     },
     "execution_count": 13,
     "metadata": {},
     "output_type": "execute_result"
    }
   ],
   "source": [
    "df_corr['Class']"
   ]
  },
  {
   "cell_type": "markdown",
   "metadata": {},
   "source": [
    "## Principal Component Analysis"
   ]
  },
  {
   "cell_type": "code",
   "execution_count": 14,
   "metadata": {},
   "outputs": [],
   "source": [
    "import numpy as np\n",
    "from sklearn.decomposition import PCA"
   ]
  },
  {
   "cell_type": "code",
   "execution_count": 15,
   "metadata": {},
   "outputs": [
    {
     "data": {
      "text/plain": [
       "PCA(copy=True, iterated_power='auto', n_components=2, random_state=None,\n",
       "  svd_solver='auto', tol=0.0, whiten=False)"
      ]
     },
     "execution_count": 15,
     "metadata": {},
     "output_type": "execute_result"
    }
   ],
   "source": [
    "pca = PCA(n_components=2)\n",
    "pca.fit(df)"
   ]
  },
  {
   "cell_type": "code",
   "execution_count": 16,
   "metadata": {},
   "outputs": [
    {
     "name": "stdout",
     "output_type": "stream",
     "text": [
      "[ 0.16794188  0.1223046 ]\n"
     ]
    }
   ],
   "source": [
    "print(pca.explained_variance_ratio_)"
   ]
  },
  {
   "cell_type": "code",
   "execution_count": 17,
   "metadata": {},
   "outputs": [],
   "source": [
    "X_pca = pca.transform(df)"
   ]
  },
  {
   "cell_type": "code",
   "execution_count": 18,
   "metadata": {},
   "outputs": [],
   "source": [
    "df_pca = pd.DataFrame(X_pca)"
   ]
  },
  {
   "cell_type": "code",
   "execution_count": 19,
   "metadata": {},
   "outputs": [],
   "source": [
    "df_pca = pd.concat([df_pca, df_labels], axis=1, join_axes=[df_labels.index])"
   ]
  },
  {
   "cell_type": "code",
   "execution_count": 20,
   "metadata": {},
   "outputs": [
    {
     "data": {
      "text/html": [
       "<div>\n",
       "<style>\n",
       "    .dataframe thead tr:only-child th {\n",
       "        text-align: right;\n",
       "    }\n",
       "\n",
       "    .dataframe thead th {\n",
       "        text-align: left;\n",
       "    }\n",
       "\n",
       "    .dataframe tbody tr th {\n",
       "        vertical-align: top;\n",
       "    }\n",
       "</style>\n",
       "<table border=\"1\" class=\"dataframe\">\n",
       "  <thead>\n",
       "    <tr style=\"text-align: right;\">\n",
       "      <th></th>\n",
       "      <th>0</th>\n",
       "      <th>1</th>\n",
       "      <th>Class</th>\n",
       "    </tr>\n",
       "    <tr>\n",
       "      <th>Id</th>\n",
       "      <th></th>\n",
       "      <th></th>\n",
       "      <th></th>\n",
       "    </tr>\n",
       "  </thead>\n",
       "  <tbody>\n",
       "    <tr>\n",
       "      <th>120873</th>\n",
       "      <td>0.226218</td>\n",
       "      <td>0.439778</td>\n",
       "      <td>1</td>\n",
       "    </tr>\n",
       "    <tr>\n",
       "      <th>135376</th>\n",
       "      <td>-0.117079</td>\n",
       "      <td>-0.071348</td>\n",
       "      <td>0</td>\n",
       "    </tr>\n",
       "    <tr>\n",
       "      <th>139149</th>\n",
       "      <td>0.114953</td>\n",
       "      <td>-0.181085</td>\n",
       "      <td>0</td>\n",
       "    </tr>\n",
       "    <tr>\n",
       "      <th>146791</th>\n",
       "      <td>-0.746615</td>\n",
       "      <td>0.042771</td>\n",
       "      <td>0</td>\n",
       "    </tr>\n",
       "    <tr>\n",
       "      <th>153870</th>\n",
       "      <td>0.240492</td>\n",
       "      <td>0.232982</td>\n",
       "      <td>1</td>\n",
       "    </tr>\n",
       "  </tbody>\n",
       "</table>\n",
       "</div>"
      ],
      "text/plain": [
       "               0         1  Class\n",
       "Id                               \n",
       "120873  0.226218  0.439778      1\n",
       "135376 -0.117079 -0.071348      0\n",
       "139149  0.114953 -0.181085      0\n",
       "146791 -0.746615  0.042771      0\n",
       "153870  0.240492  0.232982      1"
      ]
     },
     "execution_count": 20,
     "metadata": {},
     "output_type": "execute_result"
    }
   ],
   "source": [
    "df_pca = df_pca.set_index('Id')\n",
    "df_pca.head()"
   ]
  },
  {
   "cell_type": "code",
   "execution_count": 21,
   "metadata": {},
   "outputs": [],
   "source": [
    "df_pca_pos = df_pca[df_pca['Class'] == 1]\n",
    "df_pca_neg = df_pca[df_pca['Class'] == 0]"
   ]
  },
  {
   "cell_type": "code",
   "execution_count": 22,
   "metadata": {},
   "outputs": [
    {
     "name": "stdout",
     "output_type": "stream",
     "text": [
      "(40, 3)\n",
      "(46, 3)\n"
     ]
    }
   ],
   "source": [
    "print(df_pca_pos.shape)\n",
    "print(df_pca_neg.shape)"
   ]
  },
  {
   "cell_type": "code",
   "execution_count": 23,
   "metadata": {},
   "outputs": [],
   "source": [
    "x_pos = df_pca_pos[0].values"
   ]
  },
  {
   "cell_type": "code",
   "execution_count": 27,
   "metadata": {},
   "outputs": [
    {
     "data": {
      "image/png": "[encoded data removed]",
      "text/plain": [
       "<matplotlib.figure.Figure at 0x1185d5518>"
      ]
     },
     "metadata": {},
     "output_type": "display_data"
    }
   ],
   "source": [
    "import matplotlib.pyplot as plt\n",
    "plt.scatter(df_pca_pos[0].values, df_pca_pos[1].values, cmap='OrRd')\n",
    "plt.scatter(df_pca_neg[0].values, df_pca_neg[1].values, cmap='RdPu')\n",
    "plt.title('PCA Visualization')\n",
    "plt.xlabel('Principal Component 1')\n",
    "plt.ylabel('Principal Component 2')\n",
    "plt.show()"
   ]
  },
  {
   "cell_type": "markdown",
   "metadata": {},
   "source": [
    "## Kmeans Clustering"
   ]
  },
  {
   "cell_type": "code",
   "execution_count": 28,
   "metadata": {},
   "outputs": [],
   "source": [
    "from sklearn.cluster import KMeans\n",
    "kmeans = KMeans(n_clusters=2, random_state=7).fit(df)"
   ]
  },
  {
   "cell_type": "code",
   "execution_count": 29,
   "metadata": {},
   "outputs": [],
   "source": [
    "X_kmeans = kmeans.transform(df)"
   ]
  },
  {
   "cell_type": "code",
   "execution_count": 30,
   "metadata": {},
   "outputs": [],
   "source": [
    "df_kmeans = pd.DataFrame(X_kmeans)"
   ]
  },
  {
   "cell_type": "code",
   "execution_count": 31,
   "metadata": {},
   "outputs": [],
   "source": [
    "df_kmeans = pd.concat([df_kmeans, df_labels], axis=1, join_axes=[df_labels.index])"
   ]
  },
  {
   "cell_type": "code",
   "execution_count": 32,
   "metadata": {},
   "outputs": [
    {
     "data": {
      "text/html": [
       "<div>\n",
       "<style>\n",
       "    .dataframe thead tr:only-child th {\n",
       "        text-align: right;\n",
       "    }\n",
       "\n",
       "    .dataframe thead th {\n",
       "        text-align: left;\n",
       "    }\n",
       "\n",
       "    .dataframe tbody tr th {\n",
       "        vertical-align: top;\n",
       "    }\n",
       "</style>\n",
       "<table border=\"1\" class=\"dataframe\">\n",
       "  <thead>\n",
       "    <tr style=\"text-align: right;\">\n",
       "      <th></th>\n",
       "      <th>0</th>\n",
       "      <th>1</th>\n",
       "      <th>Id</th>\n",
       "      <th>Class</th>\n",
       "    </tr>\n",
       "  </thead>\n",
       "  <tbody>\n",
       "    <tr>\n",
       "      <th>0</th>\n",
       "      <td>0.921126</td>\n",
       "      <td>1.098318</td>\n",
       "      <td>120873</td>\n",
       "      <td>1</td>\n",
       "    </tr>\n",
       "    <tr>\n",
       "      <th>1</th>\n",
       "      <td>0.959846</td>\n",
       "      <td>0.804634</td>\n",
       "      <td>135376</td>\n",
       "      <td>0</td>\n",
       "    </tr>\n",
       "    <tr>\n",
       "      <th>2</th>\n",
       "      <td>1.138636</td>\n",
       "      <td>1.243881</td>\n",
       "      <td>139149</td>\n",
       "      <td>0</td>\n",
       "    </tr>\n",
       "    <tr>\n",
       "      <th>3</th>\n",
       "      <td>1.504715</td>\n",
       "      <td>1.065342</td>\n",
       "      <td>146791</td>\n",
       "      <td>0</td>\n",
       "    </tr>\n",
       "    <tr>\n",
       "      <th>4</th>\n",
       "      <td>1.065096</td>\n",
       "      <td>1.175614</td>\n",
       "      <td>153870</td>\n",
       "      <td>1</td>\n",
       "    </tr>\n",
       "  </tbody>\n",
       "</table>\n",
       "</div>"
      ],
      "text/plain": [
       "          0         1      Id  Class\n",
       "0  0.921126  1.098318  120873      1\n",
       "1  0.959846  0.804634  135376      0\n",
       "2  1.138636  1.243881  139149      0\n",
       "3  1.504715  1.065342  146791      0\n",
       "4  1.065096  1.175614  153870      1"
      ]
     },
     "execution_count": 32,
     "metadata": {},
     "output_type": "execute_result"
    }
   ],
   "source": [
    "df_kmeans.head()"
   ]
  },
  {
   "cell_type": "code",
   "execution_count": 33,
   "metadata": {},
   "outputs": [],
   "source": [
    "df_kmeans_pos = df_kmeans[df_kmeans['Class'] == 1]\n",
    "df_kmeans_neg = df_kmeans[df_kmeans['Class'] == 0]"
   ]
  },
  {
   "cell_type": "code",
   "execution_count": 35,
   "metadata": {},
   "outputs": [
    {
     "data": {
      "image/png": "[encoded data removed]",
      "text/plain": [
       "<matplotlib.figure.Figure at 0x118536080>"
      ]
     },
     "metadata": {},
     "output_type": "display_data"
    }
   ],
   "source": [
    "import matplotlib.pyplot as plt\n",
    "plt.scatter(df_kmeans_pos[0].values, df_kmeans_pos[1].values, cmap='OrRd')\n",
    "plt.scatter(df_kmeans_neg[0].values, df_kmeans_neg[1].values, cmap='RdPu')\n",
    "plt.title('Kmeans Clustering')\n",
    "plt.xlabel('Dimension 1')\n",
    "plt.ylabel('Dimension 2')\n",
    "plt.show()"
   ]
  },
  {
   "cell_type": "code",
   "execution_count": null,
   "metadata": {},
   "outputs": [],
   "source": []
  }
 ],
 "metadata": {
  "kernelspec": {
   "display_name": "Python 3",
   "language": "python",
   "name": "python3"
  },
  "language_info": {
   "codemirror_mode": {
    "name": "ipython",
    "version": 3
   },
   "file_extension": ".py",
   "mimetype": "text/x-python",
   "name": "python",
   "nbconvert_exporter": "python",
   "pygments_lexer": "ipython3",
   "version": "3.6.4"
  }
 },
 "nbformat": 4,
 "nbformat_minor": 2
}
