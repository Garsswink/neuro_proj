{
 "cells": [
  {
   "cell_type": "markdown",
   "metadata": {},
   "source": [
    "## Data Wrangling"
   ]
  },
  {
   "cell_type": "code",
   "execution_count": 1,
   "metadata": {},
   "outputs": [],
   "source": [
    "import pandas as pd"
   ]
  },
  {
   "cell_type": "code",
   "execution_count": 2,
   "metadata": {},
   "outputs": [],
   "source": [
    "df_F = pd.read_csv('Train/train_FNC.csv')\n",
    "df_S = pd.read_csv('Train/train_SBM.csv')\n",
    "df_labels = pd.read_csv('Train/train_labels.csv')"
   ]
  },
  {
   "cell_type": "code",
   "execution_count": 3,
   "metadata": {},
   "outputs": [
    {
     "name": "stdout",
     "output_type": "stream",
     "text": [
      "(86, 379)\n",
      "(86, 33)\n"
     ]
    }
   ],
   "source": [
    "print(df_F.shape)\n",
    "print(df_S.shape)"
   ]
  },
  {
   "cell_type": "code",
   "execution_count": 4,
   "metadata": {},
   "outputs": [],
   "source": [
    "df_F = pd.merge(df_F, df_labels, on='Id', how='outer')"
   ]
  },
  {
   "cell_type": "code",
   "execution_count": 5,
   "metadata": {},
   "outputs": [
    {
     "data": {
      "text/html": [
       "<div>\n",
       "<style>\n",
       "    .dataframe thead tr:only-child th {\n",
       "        text-align: right;\n",
       "    }\n",
       "\n",
       "    .dataframe thead th {\n",
       "        text-align: left;\n",
       "    }\n",
       "\n",
       "    .dataframe tbody tr th {\n",
       "        vertical-align: top;\n",
       "    }\n",
       "</style>\n",
       "<table border=\"1\" class=\"dataframe\">\n",
       "  <thead>\n",
       "    <tr style=\"text-align: right;\">\n",
       "      <th></th>\n",
       "      <th>Id</th>\n",
       "      <th>FNC1</th>\n",
       "      <th>FNC2</th>\n",
       "      <th>FNC3</th>\n",
       "      <th>FNC4</th>\n",
       "      <th>FNC5</th>\n",
       "      <th>FNC6</th>\n",
       "      <th>FNC7</th>\n",
       "      <th>FNC8</th>\n",
       "      <th>FNC9</th>\n",
       "      <th>...</th>\n",
       "      <th>FNC370</th>\n",
       "      <th>FNC371</th>\n",
       "      <th>FNC372</th>\n",
       "      <th>FNC373</th>\n",
       "      <th>FNC374</th>\n",
       "      <th>FNC375</th>\n",
       "      <th>FNC376</th>\n",
       "      <th>FNC377</th>\n",
       "      <th>FNC378</th>\n",
       "      <th>Class</th>\n",
       "    </tr>\n",
       "  </thead>\n",
       "  <tbody>\n",
       "    <tr>\n",
       "      <th>81</th>\n",
       "      <td>934330</td>\n",
       "      <td>-0.148470</td>\n",
       "      <td>-0.401520</td>\n",
       "      <td>-0.474630</td>\n",
       "      <td>-0.53253</td>\n",
       "      <td>0.293510</td>\n",
       "      <td>-0.11172</td>\n",
       "      <td>-0.54472</td>\n",
       "      <td>0.240320</td>\n",
       "      <td>0.15654</td>\n",
       "      <td>...</td>\n",
       "      <td>0.23888</td>\n",
       "      <td>-0.17473</td>\n",
       "      <td>0.095453</td>\n",
       "      <td>-0.708160</td>\n",
       "      <td>-0.026044</td>\n",
       "      <td>0.51899</td>\n",
       "      <td>0.265310</td>\n",
       "      <td>-0.44647</td>\n",
       "      <td>0.130690</td>\n",
       "      <td>0</td>\n",
       "    </tr>\n",
       "    <tr>\n",
       "      <th>82</th>\n",
       "      <td>950671</td>\n",
       "      <td>0.074459</td>\n",
       "      <td>-0.240680</td>\n",
       "      <td>-0.367120</td>\n",
       "      <td>-0.34688</td>\n",
       "      <td>-0.052563</td>\n",
       "      <td>0.25269</td>\n",
       "      <td>-0.38216</td>\n",
       "      <td>0.144010</td>\n",
       "      <td>0.31035</td>\n",
       "      <td>...</td>\n",
       "      <td>-0.28655</td>\n",
       "      <td>0.11393</td>\n",
       "      <td>0.412760</td>\n",
       "      <td>-0.813060</td>\n",
       "      <td>0.415860</td>\n",
       "      <td>0.81388</td>\n",
       "      <td>-0.248860</td>\n",
       "      <td>-0.54616</td>\n",
       "      <td>0.366960</td>\n",
       "      <td>0</td>\n",
       "    </tr>\n",
       "    <tr>\n",
       "      <th>83</th>\n",
       "      <td>963924</td>\n",
       "      <td>0.435160</td>\n",
       "      <td>0.225050</td>\n",
       "      <td>0.057172</td>\n",
       "      <td>-0.35348</td>\n",
       "      <td>0.447420</td>\n",
       "      <td>0.18318</td>\n",
       "      <td>0.12242</td>\n",
       "      <td>0.024561</td>\n",
       "      <td>0.40483</td>\n",
       "      <td>...</td>\n",
       "      <td>0.26911</td>\n",
       "      <td>0.51604</td>\n",
       "      <td>0.053609</td>\n",
       "      <td>-0.484620</td>\n",
       "      <td>-0.437720</td>\n",
       "      <td>0.38378</td>\n",
       "      <td>0.556660</td>\n",
       "      <td>-0.47694</td>\n",
       "      <td>0.026923</td>\n",
       "      <td>1</td>\n",
       "    </tr>\n",
       "    <tr>\n",
       "      <th>84</th>\n",
       "      <td>993348</td>\n",
       "      <td>0.071453</td>\n",
       "      <td>-0.202410</td>\n",
       "      <td>-0.328480</td>\n",
       "      <td>-0.60958</td>\n",
       "      <td>-0.137080</td>\n",
       "      <td>-0.43423</td>\n",
       "      <td>-0.63769</td>\n",
       "      <td>-0.377230</td>\n",
       "      <td>-0.29543</td>\n",
       "      <td>...</td>\n",
       "      <td>-0.30337</td>\n",
       "      <td>0.22673</td>\n",
       "      <td>0.482180</td>\n",
       "      <td>-0.679010</td>\n",
       "      <td>0.444760</td>\n",
       "      <td>0.88410</td>\n",
       "      <td>0.073527</td>\n",
       "      <td>-0.67677</td>\n",
       "      <td>0.421160</td>\n",
       "      <td>0</td>\n",
       "    </tr>\n",
       "    <tr>\n",
       "      <th>85</th>\n",
       "      <td>993946</td>\n",
       "      <td>0.257020</td>\n",
       "      <td>0.027335</td>\n",
       "      <td>0.238650</td>\n",
       "      <td>0.29436</td>\n",
       "      <td>0.515350</td>\n",
       "      <td>-0.58264</td>\n",
       "      <td>-0.48189</td>\n",
       "      <td>-0.308700</td>\n",
       "      <td>0.42487</td>\n",
       "      <td>...</td>\n",
       "      <td>0.28881</td>\n",
       "      <td>0.74190</td>\n",
       "      <td>0.120620</td>\n",
       "      <td>0.004893</td>\n",
       "      <td>0.329320</td>\n",
       "      <td>0.71119</td>\n",
       "      <td>-0.063090</td>\n",
       "      <td>0.10835</td>\n",
       "      <td>0.356830</td>\n",
       "      <td>1</td>\n",
       "    </tr>\n",
       "  </tbody>\n",
       "</table>\n",
       "<p>5 rows × 380 columns</p>\n",
       "</div>"
      ],
      "text/plain": [
       "        Id      FNC1      FNC2      FNC3     FNC4      FNC5     FNC6     FNC7  \\\n",
       "81  934330 -0.148470 -0.401520 -0.474630 -0.53253  0.293510 -0.11172 -0.54472   \n",
       "82  950671  0.074459 -0.240680 -0.367120 -0.34688 -0.052563  0.25269 -0.38216   \n",
       "83  963924  0.435160  0.225050  0.057172 -0.35348  0.447420  0.18318  0.12242   \n",
       "84  993348  0.071453 -0.202410 -0.328480 -0.60958 -0.137080 -0.43423 -0.63769   \n",
       "85  993946  0.257020  0.027335  0.238650  0.29436  0.515350 -0.58264 -0.48189   \n",
       "\n",
       "        FNC8     FNC9  ...     FNC370   FNC371    FNC372    FNC373    FNC374  \\\n",
       "81  0.240320  0.15654  ...    0.23888 -0.17473  0.095453 -0.708160 -0.026044   \n",
       "82  0.144010  0.31035  ...   -0.28655  0.11393  0.412760 -0.813060  0.415860   \n",
       "83  0.024561  0.40483  ...    0.26911  0.51604  0.053609 -0.484620 -0.437720   \n",
       "84 -0.377230 -0.29543  ...   -0.30337  0.22673  0.482180 -0.679010  0.444760   \n",
       "85 -0.308700  0.42487  ...    0.28881  0.74190  0.120620  0.004893  0.329320   \n",
       "\n",
       "     FNC375    FNC376   FNC377    FNC378  Class  \n",
       "81  0.51899  0.265310 -0.44647  0.130690      0  \n",
       "82  0.81388 -0.248860 -0.54616  0.366960      0  \n",
       "83  0.38378  0.556660 -0.47694  0.026923      1  \n",
       "84  0.88410  0.073527 -0.67677  0.421160      0  \n",
       "85  0.71119 -0.063090  0.10835  0.356830      1  \n",
       "\n",
       "[5 rows x 380 columns]"
      ]
     },
     "execution_count": 5,
     "metadata": {},
     "output_type": "execute_result"
    }
   ],
   "source": [
    "df_F.tail(5)"
   ]
  },
  {
   "cell_type": "code",
   "execution_count": 6,
   "metadata": {},
   "outputs": [],
   "source": [
    "df_corr = df_F.corr()"
   ]
  },
  {
   "cell_type": "code",
   "execution_count": 7,
   "metadata": {},
   "outputs": [],
   "source": [
    "df_corr = df_corr.loc['Class']"
   ]
  },
  {
   "cell_type": "code",
   "execution_count": 8,
   "metadata": {},
   "outputs": [],
   "source": [
    "df_corr = df_corr[df_corr.abs() > 0.25]"
   ]
  },
  {
   "cell_type": "code",
   "execution_count": 9,
   "metadata": {},
   "outputs": [],
   "source": [
    "correlated_features = df_corr.index.tolist()"
   ]
  },
  {
   "cell_type": "code",
   "execution_count": 10,
   "metadata": {},
   "outputs": [],
   "source": [
    "df_F_Corr = df_F[correlated_features]"
   ]
  },
  {
   "cell_type": "code",
   "execution_count": 11,
   "metadata": {},
   "outputs": [
    {
     "name": "stdout",
     "output_type": "stream",
     "text": [
      "(86, 28)\n"
     ]
    }
   ],
   "source": [
    "print(df_F_Corr.shape)"
   ]
  },
  {
   "cell_type": "code",
   "execution_count": 12,
   "metadata": {},
   "outputs": [],
   "source": [
    "df_F_Corr = df_F_Corr.drop('Class', axis=1)\n",
    "df_F_Corr['Id'] = df_F['Id']"
   ]
  },
  {
   "cell_type": "code",
   "execution_count": 13,
   "metadata": {},
   "outputs": [],
   "source": [
    "df = pd.merge(df_F_Corr, df_S, on='Id', how='outer')"
   ]
  },
  {
   "cell_type": "code",
   "execution_count": 14,
   "metadata": {},
   "outputs": [],
   "source": [
    "df = df.set_index('Id')\n",
    "df_labels = df_labels.set_index('Id')"
   ]
  },
  {
   "cell_type": "code",
   "execution_count": 15,
   "metadata": {},
   "outputs": [
    {
     "data": {
      "text/html": [
       "<div>\n",
       "<style>\n",
       "    .dataframe thead tr:only-child th {\n",
       "        text-align: right;\n",
       "    }\n",
       "\n",
       "    .dataframe thead th {\n",
       "        text-align: left;\n",
       "    }\n",
       "\n",
       "    .dataframe tbody tr th {\n",
       "        vertical-align: top;\n",
       "    }\n",
       "</style>\n",
       "<table border=\"1\" class=\"dataframe\">\n",
       "  <thead>\n",
       "    <tr style=\"text-align: right;\">\n",
       "      <th></th>\n",
       "      <th>FNC33</th>\n",
       "      <th>FNC35</th>\n",
       "      <th>FNC37</th>\n",
       "      <th>FNC48</th>\n",
       "      <th>FNC61</th>\n",
       "      <th>FNC64</th>\n",
       "      <th>FNC78</th>\n",
       "      <th>FNC170</th>\n",
       "      <th>FNC171</th>\n",
       "      <th>FNC183</th>\n",
       "      <th>...</th>\n",
       "      <th>SBM_map55</th>\n",
       "      <th>SBM_map61</th>\n",
       "      <th>SBM_map64</th>\n",
       "      <th>SBM_map67</th>\n",
       "      <th>SBM_map69</th>\n",
       "      <th>SBM_map71</th>\n",
       "      <th>SBM_map72</th>\n",
       "      <th>SBM_map73</th>\n",
       "      <th>SBM_map74</th>\n",
       "      <th>SBM_map75</th>\n",
       "    </tr>\n",
       "    <tr>\n",
       "      <th>Id</th>\n",
       "      <th></th>\n",
       "      <th></th>\n",
       "      <th></th>\n",
       "      <th></th>\n",
       "      <th></th>\n",
       "      <th></th>\n",
       "      <th></th>\n",
       "      <th></th>\n",
       "      <th></th>\n",
       "      <th></th>\n",
       "      <th></th>\n",
       "      <th></th>\n",
       "      <th></th>\n",
       "      <th></th>\n",
       "      <th></th>\n",
       "      <th></th>\n",
       "      <th></th>\n",
       "      <th></th>\n",
       "      <th></th>\n",
       "      <th></th>\n",
       "      <th></th>\n",
       "    </tr>\n",
       "  </thead>\n",
       "  <tbody>\n",
       "    <tr>\n",
       "      <th>120873</th>\n",
       "      <td>0.21516</td>\n",
       "      <td>0.069346</td>\n",
       "      <td>-0.086613</td>\n",
       "      <td>0.22927</td>\n",
       "      <td>-0.10530</td>\n",
       "      <td>0.076665</td>\n",
       "      <td>-0.43355</td>\n",
       "      <td>0.289910</td>\n",
       "      <td>0.269610</td>\n",
       "      <td>0.023795</td>\n",
       "      <td>...</td>\n",
       "      <td>-0.078220</td>\n",
       "      <td>-0.982331</td>\n",
       "      <td>1.070363</td>\n",
       "      <td>0.220316</td>\n",
       "      <td>0.776855</td>\n",
       "      <td>-2.022404</td>\n",
       "      <td>1.203256</td>\n",
       "      <td>1.083516</td>\n",
       "      <td>0.564201</td>\n",
       "      <td>-0.002006</td>\n",
       "    </tr>\n",
       "    <tr>\n",
       "      <th>135376</th>\n",
       "      <td>0.70298</td>\n",
       "      <td>0.543640</td>\n",
       "      <td>0.244000</td>\n",
       "      <td>0.13697</td>\n",
       "      <td>0.47178</td>\n",
       "      <td>0.292600</td>\n",
       "      <td>0.20686</td>\n",
       "      <td>0.531560</td>\n",
       "      <td>0.691120</td>\n",
       "      <td>0.333930</td>\n",
       "      <td>...</td>\n",
       "      <td>0.989571</td>\n",
       "      <td>-0.057543</td>\n",
       "      <td>0.371701</td>\n",
       "      <td>-0.513081</td>\n",
       "      <td>-0.457550</td>\n",
       "      <td>1.476216</td>\n",
       "      <td>0.381052</td>\n",
       "      <td>0.163436</td>\n",
       "      <td>0.403782</td>\n",
       "      <td>-0.295125</td>\n",
       "    </tr>\n",
       "    <tr>\n",
       "      <th>139149</th>\n",
       "      <td>0.51565</td>\n",
       "      <td>0.114280</td>\n",
       "      <td>0.262910</td>\n",
       "      <td>0.20463</td>\n",
       "      <td>-0.27349</td>\n",
       "      <td>0.017753</td>\n",
       "      <td>-0.29473</td>\n",
       "      <td>0.052212</td>\n",
       "      <td>0.497630</td>\n",
       "      <td>0.107870</td>\n",
       "      <td>...</td>\n",
       "      <td>-0.257114</td>\n",
       "      <td>0.597229</td>\n",
       "      <td>1.220756</td>\n",
       "      <td>-0.059213</td>\n",
       "      <td>-0.435494</td>\n",
       "      <td>-0.092971</td>\n",
       "      <td>1.090910</td>\n",
       "      <td>-0.448562</td>\n",
       "      <td>-0.508497</td>\n",
       "      <td>0.350434</td>\n",
       "    </tr>\n",
       "    <tr>\n",
       "      <th>146791</th>\n",
       "      <td>0.64302</td>\n",
       "      <td>0.589520</td>\n",
       "      <td>0.485810</td>\n",
       "      <td>0.51528</td>\n",
       "      <td>0.24218</td>\n",
       "      <td>0.260780</td>\n",
       "      <td>0.13414</td>\n",
       "      <td>0.652420</td>\n",
       "      <td>0.393440</td>\n",
       "      <td>0.341360</td>\n",
       "      <td>...</td>\n",
       "      <td>-0.295110</td>\n",
       "      <td>0.829697</td>\n",
       "      <td>-0.450726</td>\n",
       "      <td>-0.791032</td>\n",
       "      <td>-1.115821</td>\n",
       "      <td>-0.022296</td>\n",
       "      <td>-0.245844</td>\n",
       "      <td>-0.705539</td>\n",
       "      <td>0.061344</td>\n",
       "      <td>0.448966</td>\n",
       "    </tr>\n",
       "    <tr>\n",
       "      <th>153870</th>\n",
       "      <td>0.25707</td>\n",
       "      <td>0.152580</td>\n",
       "      <td>-0.105510</td>\n",
       "      <td>0.17695</td>\n",
       "      <td>0.33310</td>\n",
       "      <td>0.086348</td>\n",
       "      <td>0.60275</td>\n",
       "      <td>0.038003</td>\n",
       "      <td>-0.022911</td>\n",
       "      <td>0.108960</td>\n",
       "      <td>...</td>\n",
       "      <td>1.342273</td>\n",
       "      <td>-0.978412</td>\n",
       "      <td>0.158492</td>\n",
       "      <td>0.889753</td>\n",
       "      <td>0.795368</td>\n",
       "      <td>0.738788</td>\n",
       "      <td>0.475415</td>\n",
       "      <td>2.340384</td>\n",
       "      <td>2.516038</td>\n",
       "      <td>-0.551440</td>\n",
       "    </tr>\n",
       "  </tbody>\n",
       "</table>\n",
       "<p>5 rows × 59 columns</p>\n",
       "</div>"
      ],
      "text/plain": [
       "          FNC33     FNC35     FNC37    FNC48    FNC61     FNC64    FNC78  \\\n",
       "Id                                                                         \n",
       "120873  0.21516  0.069346 -0.086613  0.22927 -0.10530  0.076665 -0.43355   \n",
       "135376  0.70298  0.543640  0.244000  0.13697  0.47178  0.292600  0.20686   \n",
       "139149  0.51565  0.114280  0.262910  0.20463 -0.27349  0.017753 -0.29473   \n",
       "146791  0.64302  0.589520  0.485810  0.51528  0.24218  0.260780  0.13414   \n",
       "153870  0.25707  0.152580 -0.105510  0.17695  0.33310  0.086348  0.60275   \n",
       "\n",
       "          FNC170    FNC171    FNC183    ...      SBM_map55  SBM_map61  \\\n",
       "Id                                      ...                             \n",
       "120873  0.289910  0.269610  0.023795    ...      -0.078220  -0.982331   \n",
       "135376  0.531560  0.691120  0.333930    ...       0.989571  -0.057543   \n",
       "139149  0.052212  0.497630  0.107870    ...      -0.257114   0.597229   \n",
       "146791  0.652420  0.393440  0.341360    ...      -0.295110   0.829697   \n",
       "153870  0.038003 -0.022911  0.108960    ...       1.342273  -0.978412   \n",
       "\n",
       "        SBM_map64  SBM_map67  SBM_map69  SBM_map71  SBM_map72  SBM_map73  \\\n",
       "Id                                                                         \n",
       "120873   1.070363   0.220316   0.776855  -2.022404   1.203256   1.083516   \n",
       "135376   0.371701  -0.513081  -0.457550   1.476216   0.381052   0.163436   \n",
       "139149   1.220756  -0.059213  -0.435494  -0.092971   1.090910  -0.448562   \n",
       "146791  -0.450726  -0.791032  -1.115821  -0.022296  -0.245844  -0.705539   \n",
       "153870   0.158492   0.889753   0.795368   0.738788   0.475415   2.340384   \n",
       "\n",
       "        SBM_map74  SBM_map75  \n",
       "Id                            \n",
       "120873   0.564201  -0.002006  \n",
       "135376   0.403782  -0.295125  \n",
       "139149  -0.508497   0.350434  \n",
       "146791   0.061344   0.448966  \n",
       "153870   2.516038  -0.551440  \n",
       "\n",
       "[5 rows x 59 columns]"
      ]
     },
     "execution_count": 15,
     "metadata": {},
     "output_type": "execute_result"
    }
   ],
   "source": [
    "df.head()"
   ]
  },
  {
   "cell_type": "code",
   "execution_count": 16,
   "metadata": {},
   "outputs": [],
   "source": [
    "from sklearn.preprocessing import MinMaxScaler\n",
    "X = df.values\n",
    "min_max_scaler = MinMaxScaler()\n",
    "X_scaled = min_max_scaler.fit_transform(X)\n",
    "df = pd.DataFrame(X_scaled)"
   ]
  },
  {
   "cell_type": "code",
   "execution_count": 17,
   "metadata": {},
   "outputs": [
    {
     "data": {
      "text/plain": [
       "(86, 59)"
      ]
     },
     "execution_count": 17,
     "metadata": {},
     "output_type": "execute_result"
    }
   ],
   "source": [
    "df.shape"
   ]
  },
  {
   "cell_type": "code",
   "execution_count": 18,
   "metadata": {},
   "outputs": [
    {
     "data": {
      "text/plain": [
       "(86, 59)"
      ]
     },
     "execution_count": 18,
     "metadata": {},
     "output_type": "execute_result"
    }
   ],
   "source": [
    "df.shape"
   ]
  },
  {
   "cell_type": "markdown",
   "metadata": {},
   "source": [
    "## Logistic Regression"
   ]
  },
  {
   "cell_type": "code",
   "execution_count": 19,
   "metadata": {},
   "outputs": [],
   "source": [
    "#from sklearn.linear_model import LogisticRegression\n",
    "#from xgboost import XGBClassifier\n",
    "from sklearn.ensemble import RandomForestClassifier"
   ]
  },
  {
   "cell_type": "code",
   "execution_count": 20,
   "metadata": {},
   "outputs": [],
   "source": [
    "#xgb = XGBClassifier(learning_rate=0.01)"
   ]
  },
  {
   "cell_type": "code",
   "execution_count": 21,
   "metadata": {},
   "outputs": [],
   "source": [
    "#xgb.fit(df.values, df_labels.values)"
   ]
  },
  {
   "cell_type": "code",
   "execution_count": 22,
   "metadata": {},
   "outputs": [],
   "source": [
    "#xgb.score(df.values, df_labels.values)"
   ]
  },
  {
   "cell_type": "code",
   "execution_count": 23,
   "metadata": {},
   "outputs": [],
   "source": [
    "rf = RandomForestClassifier(n_estimators=3)"
   ]
  },
  {
   "cell_type": "code",
   "execution_count": 24,
   "metadata": {},
   "outputs": [
    {
     "name": "stderr",
     "output_type": "stream",
     "text": [
      "/Library/Frameworks/Python.framework/Versions/3.6/lib/python3.6/site-packages/ipykernel_launcher.py:1: DataConversionWarning: A column-vector y was passed when a 1d array was expected. Please change the shape of y to (n_samples,), for example using ravel().\n",
      "  \"\"\"Entry point for launching an IPython kernel.\n"
     ]
    },
    {
     "data": {
      "text/plain": [
       "RandomForestClassifier(bootstrap=True, class_weight=None, criterion='gini',\n",
       "            max_depth=None, max_features='auto', max_leaf_nodes=None,\n",
       "            min_impurity_decrease=0.0, min_impurity_split=None,\n",
       "            min_samples_leaf=1, min_samples_split=2,\n",
       "            min_weight_fraction_leaf=0.0, n_estimators=3, n_jobs=1,\n",
       "            oob_score=False, random_state=None, verbose=0,\n",
       "            warm_start=False)"
      ]
     },
     "execution_count": 24,
     "metadata": {},
     "output_type": "execute_result"
    }
   ],
   "source": [
    "rf.fit(df.values, df_labels.values)"
   ]
  },
  {
   "cell_type": "code",
   "execution_count": 25,
   "metadata": {},
   "outputs": [
    {
     "name": "stderr",
     "output_type": "stream",
     "text": [
      "/Library/Frameworks/Python.framework/Versions/3.6/lib/python3.6/site-packages/ipykernel_launcher.py:3: SettingWithCopyWarning: \n",
      "A value is trying to be set on a copy of a slice from a DataFrame.\n",
      "Try using .loc[row_indexer,col_indexer] = value instead\n",
      "\n",
      "See the caveats in the documentation: http://pandas.pydata.org/pandas-docs/stable/indexing.html#indexing-view-versus-copy\n",
      "  This is separate from the ipykernel package so we can avoid doing imports until\n"
     ]
    }
   ],
   "source": [
    "df_F_Test = pd.read_csv('Test/test_FNC.csv')\n",
    "df_F_Test_Corr = df_F_Test[correlated_features[:-1]]\n",
    "df_F_Test_Corr['Id'] = df_F_Test['Id']\n",
    "df_S_Test = pd.read_csv('Test/test_SBM.csv')\n",
    "df_Test = pd.merge(df_F_Test_Corr, df_S_Test, on='Id', how='outer')\n",
    "#df_labels = pd.read_csv('Train/train_labels.csv')"
   ]
  },
  {
   "cell_type": "code",
   "execution_count": 26,
   "metadata": {},
   "outputs": [
    {
     "data": {
      "text/html": [
       "<div>\n",
       "<style>\n",
       "    .dataframe thead tr:only-child th {\n",
       "        text-align: right;\n",
       "    }\n",
       "\n",
       "    .dataframe thead th {\n",
       "        text-align: left;\n",
       "    }\n",
       "\n",
       "    .dataframe tbody tr th {\n",
       "        vertical-align: top;\n",
       "    }\n",
       "</style>\n",
       "<table border=\"1\" class=\"dataframe\">\n",
       "  <thead>\n",
       "    <tr style=\"text-align: right;\">\n",
       "      <th></th>\n",
       "      <th>FNC33</th>\n",
       "      <th>FNC35</th>\n",
       "      <th>FNC37</th>\n",
       "      <th>FNC48</th>\n",
       "      <th>FNC61</th>\n",
       "      <th>FNC64</th>\n",
       "      <th>FNC78</th>\n",
       "      <th>FNC170</th>\n",
       "      <th>FNC171</th>\n",
       "      <th>FNC183</th>\n",
       "      <th>...</th>\n",
       "      <th>SBM_map55</th>\n",
       "      <th>SBM_map61</th>\n",
       "      <th>SBM_map64</th>\n",
       "      <th>SBM_map67</th>\n",
       "      <th>SBM_map69</th>\n",
       "      <th>SBM_map71</th>\n",
       "      <th>SBM_map72</th>\n",
       "      <th>SBM_map73</th>\n",
       "      <th>SBM_map74</th>\n",
       "      <th>SBM_map75</th>\n",
       "    </tr>\n",
       "    <tr>\n",
       "      <th>Id</th>\n",
       "      <th></th>\n",
       "      <th></th>\n",
       "      <th></th>\n",
       "      <th></th>\n",
       "      <th></th>\n",
       "      <th></th>\n",
       "      <th></th>\n",
       "      <th></th>\n",
       "      <th></th>\n",
       "      <th></th>\n",
       "      <th></th>\n",
       "      <th></th>\n",
       "      <th></th>\n",
       "      <th></th>\n",
       "      <th></th>\n",
       "      <th></th>\n",
       "      <th></th>\n",
       "      <th></th>\n",
       "      <th></th>\n",
       "      <th></th>\n",
       "      <th></th>\n",
       "    </tr>\n",
       "  </thead>\n",
       "  <tbody>\n",
       "    <tr>\n",
       "      <th>100004</th>\n",
       "      <td>0.678723</td>\n",
       "      <td>0.676364</td>\n",
       "      <td>0.102174</td>\n",
       "      <td>0.525100</td>\n",
       "      <td>0.255609</td>\n",
       "      <td>0.202220</td>\n",
       "      <td>-0.397974</td>\n",
       "      <td>-0.301027</td>\n",
       "      <td>0.481468</td>\n",
       "      <td>-0.201674</td>\n",
       "      <td>...</td>\n",
       "      <td>-0.451994</td>\n",
       "      <td>1.123770</td>\n",
       "      <td>2.083006</td>\n",
       "      <td>1.145440</td>\n",
       "      <td>-0.067608</td>\n",
       "      <td>1.202529</td>\n",
       "      <td>0.851587</td>\n",
       "      <td>0.451583</td>\n",
       "      <td>-0.159739</td>\n",
       "      <td>0.192076</td>\n",
       "    </tr>\n",
       "    <tr>\n",
       "      <th>100015</th>\n",
       "      <td>0.770686</td>\n",
       "      <td>0.787717</td>\n",
       "      <td>0.366940</td>\n",
       "      <td>0.119848</td>\n",
       "      <td>0.467526</td>\n",
       "      <td>0.482848</td>\n",
       "      <td>-0.373008</td>\n",
       "      <td>0.578810</td>\n",
       "      <td>-0.167318</td>\n",
       "      <td>-0.250597</td>\n",
       "      <td>...</td>\n",
       "      <td>0.696987</td>\n",
       "      <td>1.397832</td>\n",
       "      <td>1.046136</td>\n",
       "      <td>-0.191733</td>\n",
       "      <td>-2.192023</td>\n",
       "      <td>-0.369276</td>\n",
       "      <td>0.822225</td>\n",
       "      <td>-0.109342</td>\n",
       "      <td>-0.580476</td>\n",
       "      <td>0.174160</td>\n",
       "    </tr>\n",
       "    <tr>\n",
       "      <th>100026</th>\n",
       "      <td>-0.058818</td>\n",
       "      <td>0.316538</td>\n",
       "      <td>0.081580</td>\n",
       "      <td>0.699402</td>\n",
       "      <td>0.608201</td>\n",
       "      <td>0.006117</td>\n",
       "      <td>-0.034498</td>\n",
       "      <td>0.645872</td>\n",
       "      <td>0.494938</td>\n",
       "      <td>0.279100</td>\n",
       "      <td>...</td>\n",
       "      <td>0.160145</td>\n",
       "      <td>1.906989</td>\n",
       "      <td>-2.661633</td>\n",
       "      <td>-0.193911</td>\n",
       "      <td>0.440873</td>\n",
       "      <td>0.641739</td>\n",
       "      <td>0.918397</td>\n",
       "      <td>-0.758046</td>\n",
       "      <td>0.154702</td>\n",
       "      <td>-0.476647</td>\n",
       "    </tr>\n",
       "    <tr>\n",
       "      <th>100030</th>\n",
       "      <td>0.537128</td>\n",
       "      <td>0.124338</td>\n",
       "      <td>0.073727</td>\n",
       "      <td>-0.440393</td>\n",
       "      <td>0.346183</td>\n",
       "      <td>0.071203</td>\n",
       "      <td>-0.422577</td>\n",
       "      <td>0.528122</td>\n",
       "      <td>0.332618</td>\n",
       "      <td>-0.327195</td>\n",
       "      <td>...</td>\n",
       "      <td>0.974828</td>\n",
       "      <td>-1.997087</td>\n",
       "      <td>-2.083782</td>\n",
       "      <td>1.154107</td>\n",
       "      <td>-0.643947</td>\n",
       "      <td>2.332424</td>\n",
       "      <td>0.659124</td>\n",
       "      <td>-0.809445</td>\n",
       "      <td>0.558960</td>\n",
       "      <td>2.790871</td>\n",
       "    </tr>\n",
       "    <tr>\n",
       "      <th>100047</th>\n",
       "      <td>0.294196</td>\n",
       "      <td>0.332166</td>\n",
       "      <td>0.447499</td>\n",
       "      <td>-0.382784</td>\n",
       "      <td>0.179392</td>\n",
       "      <td>0.174581</td>\n",
       "      <td>-0.161510</td>\n",
       "      <td>0.554254</td>\n",
       "      <td>0.440666</td>\n",
       "      <td>-0.174987</td>\n",
       "      <td>...</td>\n",
       "      <td>-0.789153</td>\n",
       "      <td>1.578984</td>\n",
       "      <td>1.402592</td>\n",
       "      <td>-1.230440</td>\n",
       "      <td>0.296686</td>\n",
       "      <td>2.806314</td>\n",
       "      <td>0.427184</td>\n",
       "      <td>-0.240682</td>\n",
       "      <td>-0.196948</td>\n",
       "      <td>-1.544345</td>\n",
       "    </tr>\n",
       "  </tbody>\n",
       "</table>\n",
       "<p>5 rows × 59 columns</p>\n",
       "</div>"
      ],
      "text/plain": [
       "           FNC33     FNC35     FNC37     FNC48     FNC61     FNC64     FNC78  \\\n",
       "Id                                                                             \n",
       "100004  0.678723  0.676364  0.102174  0.525100  0.255609  0.202220 -0.397974   \n",
       "100015  0.770686  0.787717  0.366940  0.119848  0.467526  0.482848 -0.373008   \n",
       "100026 -0.058818  0.316538  0.081580  0.699402  0.608201  0.006117 -0.034498   \n",
       "100030  0.537128  0.124338  0.073727 -0.440393  0.346183  0.071203 -0.422577   \n",
       "100047  0.294196  0.332166  0.447499 -0.382784  0.179392  0.174581 -0.161510   \n",
       "\n",
       "          FNC170    FNC171    FNC183    ...      SBM_map55  SBM_map61  \\\n",
       "Id                                      ...                             \n",
       "100004 -0.301027  0.481468 -0.201674    ...      -0.451994   1.123770   \n",
       "100015  0.578810 -0.167318 -0.250597    ...       0.696987   1.397832   \n",
       "100026  0.645872  0.494938  0.279100    ...       0.160145   1.906989   \n",
       "100030  0.528122  0.332618 -0.327195    ...       0.974828  -1.997087   \n",
       "100047  0.554254  0.440666 -0.174987    ...      -0.789153   1.578984   \n",
       "\n",
       "        SBM_map64  SBM_map67  SBM_map69  SBM_map71  SBM_map72  SBM_map73  \\\n",
       "Id                                                                         \n",
       "100004   2.083006   1.145440  -0.067608   1.202529   0.851587   0.451583   \n",
       "100015   1.046136  -0.191733  -2.192023  -0.369276   0.822225  -0.109342   \n",
       "100026  -2.661633  -0.193911   0.440873   0.641739   0.918397  -0.758046   \n",
       "100030  -2.083782   1.154107  -0.643947   2.332424   0.659124  -0.809445   \n",
       "100047   1.402592  -1.230440   0.296686   2.806314   0.427184  -0.240682   \n",
       "\n",
       "        SBM_map74  SBM_map75  \n",
       "Id                            \n",
       "100004  -0.159739   0.192076  \n",
       "100015  -0.580476   0.174160  \n",
       "100026   0.154702  -0.476647  \n",
       "100030   0.558960   2.790871  \n",
       "100047  -0.196948  -1.544345  \n",
       "\n",
       "[5 rows x 59 columns]"
      ]
     },
     "execution_count": 26,
     "metadata": {},
     "output_type": "execute_result"
    }
   ],
   "source": [
    "df_Test = df_Test.set_index('Id')\n",
    "df_Test.head()"
   ]
  },
  {
   "cell_type": "code",
   "execution_count": 27,
   "metadata": {},
   "outputs": [],
   "source": [
    "preds = rf.predict(df_Test.values)"
   ]
  },
  {
   "cell_type": "code",
   "execution_count": 28,
   "metadata": {},
   "outputs": [
    {
     "name": "stdout",
     "output_type": "stream",
     "text": [
      "0\n",
      "1\n"
     ]
    }
   ],
   "source": [
    "print(preds.min())\n",
    "print(preds.max())"
   ]
  },
  {
   "cell_type": "code",
   "execution_count": 29,
   "metadata": {},
   "outputs": [],
   "source": [
    "df_Test['Probability'] = preds"
   ]
  },
  {
   "cell_type": "code",
   "execution_count": 30,
   "metadata": {},
   "outputs": [],
   "source": [
    "df_preds = df_Test['Probability']"
   ]
  },
  {
   "cell_type": "code",
   "execution_count": 31,
   "metadata": {},
   "outputs": [],
   "source": [
    "df_preds = df_preds.reset_index()"
   ]
  },
  {
   "cell_type": "code",
   "execution_count": 32,
   "metadata": {},
   "outputs": [
    {
     "data": {
      "text/html": [
       "<div>\n",
       "<style>\n",
       "    .dataframe thead tr:only-child th {\n",
       "        text-align: right;\n",
       "    }\n",
       "\n",
       "    .dataframe thead th {\n",
       "        text-align: left;\n",
       "    }\n",
       "\n",
       "    .dataframe tbody tr th {\n",
       "        vertical-align: top;\n",
       "    }\n",
       "</style>\n",
       "<table border=\"1\" class=\"dataframe\">\n",
       "  <thead>\n",
       "    <tr style=\"text-align: right;\">\n",
       "      <th></th>\n",
       "      <th>Id</th>\n",
       "      <th>Probability</th>\n",
       "    </tr>\n",
       "  </thead>\n",
       "  <tbody>\n",
       "    <tr>\n",
       "      <th>0</th>\n",
       "      <td>100004</td>\n",
       "      <td>0</td>\n",
       "    </tr>\n",
       "    <tr>\n",
       "      <th>1</th>\n",
       "      <td>100015</td>\n",
       "      <td>1</td>\n",
       "    </tr>\n",
       "    <tr>\n",
       "      <th>2</th>\n",
       "      <td>100026</td>\n",
       "      <td>1</td>\n",
       "    </tr>\n",
       "    <tr>\n",
       "      <th>3</th>\n",
       "      <td>100030</td>\n",
       "      <td>1</td>\n",
       "    </tr>\n",
       "    <tr>\n",
       "      <th>4</th>\n",
       "      <td>100047</td>\n",
       "      <td>0</td>\n",
       "    </tr>\n",
       "  </tbody>\n",
       "</table>\n",
       "</div>"
      ],
      "text/plain": [
       "       Id  Probability\n",
       "0  100004            0\n",
       "1  100015            1\n",
       "2  100026            1\n",
       "3  100030            1\n",
       "4  100047            0"
      ]
     },
     "execution_count": 32,
     "metadata": {},
     "output_type": "execute_result"
    }
   ],
   "source": [
    "df_preds.head()"
   ]
  },
  {
   "cell_type": "code",
   "execution_count": 35,
   "metadata": {},
   "outputs": [],
   "source": [
    "df_preds.to_csv('rf2_preds.csv', index=False, header=True)"
   ]
  },
  {
   "cell_type": "code",
   "execution_count": 34,
   "metadata": {},
   "outputs": [],
   "source": [
    "# Submission recieved accuracy scoer of 0.80803 on Kaggle"
   ]
  }
 ],
 "metadata": {
  "kernelspec": {
   "display_name": "Python 3",
   "language": "python",
   "name": "python3"
  },
  "language_info": {
   "codemirror_mode": {
    "name": "ipython",
    "version": 3
   },
   "file_extension": ".py",
   "mimetype": "text/x-python",
   "name": "python",
   "nbconvert_exporter": "python",
   "pygments_lexer": "ipython3",
   "version": "3.6.4"
  }
 },
 "nbformat": 4,
 "nbformat_minor": 2
}
